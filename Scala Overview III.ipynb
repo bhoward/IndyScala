{
 "cells": [
  {
   "cell_type": "markdown",
   "metadata": {
    "nbpresent": {
     "id": "7afaa509-eaa6-4e7f-aaff-9c736da6e3f0"
    }
   },
   "source": [
    "# Scala Is... A Functional Language"
   ]
  },
  {
   "cell_type": "markdown",
   "metadata": {
    "collapsed": true,
    "nbpresent": {
     "id": "e2f2c44b-60e4-4e62-a670-4146a3c4a804"
    }
   },
   "source": [
    "* Function Values"
   ]
  },
  {
   "cell_type": "code",
   "execution_count": 15,
   "metadata": {
    "collapsed": false,
    "nbpresent": {
     "id": "f0ca01a0-8be7-4a6d-a950-7fb6b3c11ef3"
    }
   },
   "outputs": [
    {
     "name": "stdout",
     "output_type": "stream",
     "text": [
      "1\n",
      "2\n",
      "1\n",
      "2\n",
      "1\n",
      "2\n",
      "1\n",
      "2\n"
     ]
    },
    {
     "data": {
      "text/plain": [
       "\u001b[36ma\u001b[0m: \u001b[32mArray\u001b[0m[\u001b[32mInt\u001b[0m] = \u001b[33mArray\u001b[0m(\u001b[32m1\u001b[0m, \u001b[32m2\u001b[0m)\n",
       "\u001b[36mres14_5\u001b[0m: \u001b[32mInt\u001b[0m = \u001b[32m3\u001b[0m\n",
       "\u001b[36mres14_6\u001b[0m: \u001b[32mInt\u001b[0m = \u001b[32m3\u001b[0m\n",
       "\u001b[36mres14_7\u001b[0m: \u001b[32mInt\u001b[0m = \u001b[32m3\u001b[0m"
      ]
     },
     "metadata": {},
     "output_type": "display_data"
    }
   ],
   "source": [
    "val a = Array(1, 2)\n",
    "a.foreach(println)\n",
    "a.foreach(println(_))\n",
    "a.foreach(n => println(n))\n",
    "a.foreach(new Function1[Int, Unit]{def apply(n: Int): Unit = println(n)})\n",
    "\n",
    "a.reduceLeft(_ + _)\n",
    "a.reduceLeft((x: Int, y: Int) => x + y)\n",
    "a.reduceLeft(new Function2[Int, Int, Int]{def apply(x: Int, y: Int): Int = x + y})"
   ]
  },
  {
   "cell_type": "markdown",
   "metadata": {
    "nbpresent": {
     "id": "8ac1c575-9e5a-4913-b78c-7e7552efdb9a"
    }
   },
   "source": [
    "* Algebraic Data Types and Pattern Matching"
   ]
  },
  {
   "cell_type": "code",
   "execution_count": 10,
   "metadata": {
    "collapsed": false,
    "nbpresent": {
     "id": "eae5b528-7712-4b7a-89ad-fe1af3e504f6"
    }
   },
   "outputs": [
    {
     "name": "stdout",
     "output_type": "stream",
     "text": [
      "4\n",
      "true\n",
      "false\n",
      "true\n",
      "true\n",
      "true\n"
     ]
    },
    {
     "data": {
      "text/plain": [
       "defined \u001b[32mtrait \u001b[36mBST\u001b[0m\n",
       "defined \u001b[32mobject \u001b[36mEmpty\u001b[0m\n",
       "defined \u001b[32mclass \u001b[36mNode\u001b[0m\n",
       "defined \u001b[32mfunction \u001b[36msize\u001b[0m\n",
       "defined \u001b[32mfunction \u001b[36minsert\u001b[0m\n",
       "defined \u001b[32mfunction \u001b[36mcontains\u001b[0m\n",
       "\u001b[36mt\u001b[0m: \u001b[32m$user\u001b[0m.\u001b[32mBST\u001b[0m = Node(Node(Empty,1,Empty),3,Node(Empty,4,Node(Empty,5,Empty)))"
      ]
     },
     "metadata": {},
     "output_type": "display_data"
    }
   ],
   "source": [
    "sealed trait BST\n",
    "case object Empty extends BST\n",
    "case class Node(left: BST, value: Int, right: BST) extends BST\n",
    "\n",
    "def size(t: BST): Int = t match {\n",
    "  case Empty => 0\n",
    "  case Node(left, _, right) => size(left) + 1 + size(right)\n",
    "}\n",
    "\n",
    "def insert(t: BST, n: Int): BST = t match {\n",
    "  case Empty => Node(Empty, n, Empty)\n",
    "  case Node(left, value, right) =>\n",
    "    if (n < value) Node(insert(left, n), value, right)\n",
    "    else if (n > value) Node(left, value, insert(right, n))\n",
    "    else t\n",
    "}\n",
    "\n",
    "def contains(t: BST, n: Int): Boolean = t match {\n",
    "  case Empty => false\n",
    "  case Node(left, value, right) =>\n",
    "    if (n < value) contains(left, n)\n",
    "    else if (n > value) contains(right, n)\n",
    "    else true\n",
    "}\n",
    "\n",
    "val t = Array(3, 1, 4, 1, 5).foldLeft[BST](Empty)(insert)\n",
    "println(size(t))\n",
    "for (n <- 1 to 5) println(contains(t, n))"
   ]
  },
  {
   "cell_type": "markdown",
   "metadata": {
    "nbpresent": {
     "id": "8ecb2519-3cef-4773-b460-7eab11068b6b"
    }
   },
   "source": [
    "* For Comprehensions (Monads)"
   ]
  },
  {
   "cell_type": "code",
   "execution_count": 14,
   "metadata": {
    "collapsed": false,
    "nbpresent": {
     "id": "88bf0bbd-82d0-4e64-8d51-5ab4f58c9f45"
    }
   },
   "outputs": [
    {
     "name": "stdout",
     "output_type": "stream",
     "text": [
      "1\n",
      "2\n",
      "3\n",
      "1\n",
      "2\n",
      "3\n"
     ]
    },
    {
     "data": {
      "text/plain": [
       "\u001b[36ma\u001b[0m: \u001b[32mArray\u001b[0m[\u001b[32mInt\u001b[0m] = \u001b[33mArray\u001b[0m(\u001b[32m1\u001b[0m, \u001b[32m2\u001b[0m, \u001b[32m3\u001b[0m)\n",
       "\u001b[36mres13_3\u001b[0m: \u001b[32mArray\u001b[0m[\u001b[32mInt\u001b[0m] = \u001b[33mArray\u001b[0m(\u001b[32m1\u001b[0m, \u001b[32m4\u001b[0m, \u001b[32m9\u001b[0m)\n",
       "\u001b[36mres13_4\u001b[0m: \u001b[32mArray\u001b[0m[\u001b[32mInt\u001b[0m] = \u001b[33mArray\u001b[0m(\u001b[32m1\u001b[0m, \u001b[32m4\u001b[0m, \u001b[32m9\u001b[0m)\n",
       "\u001b[36mres13_5\u001b[0m: \u001b[32mArray\u001b[0m[\u001b[32mInt\u001b[0m] = \u001b[33mArray\u001b[0m(\u001b[32m1\u001b[0m, \u001b[32m9\u001b[0m)\n",
       "\u001b[36mres13_6\u001b[0m: \u001b[32mArray\u001b[0m[\u001b[32mInt\u001b[0m] = \u001b[33mArray\u001b[0m(\u001b[32m1\u001b[0m, \u001b[32m9\u001b[0m)\n",
       "\u001b[36mres13_7\u001b[0m: \u001b[32mArray\u001b[0m[\u001b[32mString\u001b[0m] = \u001b[33mArray\u001b[0m(\u001b[32m\"1:1\"\u001b[0m, \u001b[32m\"2:1\"\u001b[0m, \u001b[32m\"2:2\"\u001b[0m, \u001b[32m\"3:1\"\u001b[0m, \u001b[32m\"3:2\"\u001b[0m, \u001b[32m\"3:3\"\u001b[0m)\n",
       "\u001b[36mres13_8\u001b[0m: \u001b[32mArray\u001b[0m[\u001b[32mString\u001b[0m] = \u001b[33mArray\u001b[0m(\u001b[32m\"1:1\"\u001b[0m, \u001b[32m\"2:1\"\u001b[0m, \u001b[32m\"2:2\"\u001b[0m, \u001b[32m\"3:1\"\u001b[0m, \u001b[32m\"3:2\"\u001b[0m, \u001b[32m\"3:3\"\u001b[0m)"
      ]
     },
     "metadata": {},
     "output_type": "display_data"
    }
   ],
   "source": [
    "val a = Array(1, 2, 3)\n",
    "\n",
    "for (x <- a) println(x)\n",
    "a.foreach(x => println(x))\n",
    "\n",
    "for (x <- a) yield x*x\n",
    "a.map(x => x*x)\n",
    "\n",
    "for (x <- a if x%2 == 1) yield x*x\n",
    "a.withFilter(x => x%2 == 1).map(x => x*x)\n",
    "\n",
    "for (x <- a; y <- 1 to x) yield s\"$x:$y\"\n",
    "a.flatMap(x => (1 to x).map(y => s\"$x:$y\"))"
   ]
  }
 ],
 "metadata": {
  "anaconda-cloud": {},
  "kernelspec": {
   "display_name": "Scala 2.11",
   "language": "scala211",
   "name": "scala211"
  },
  "language_info": {
   "codemirror_mode": "text/x-scala",
   "file_extension": ".scala",
   "mimetype": "text/x-scala",
   "name": "scala211",
   "pygments_lexer": "scala",
   "version": "2.11.7"
  },
  "nbpresent": {
   "slides": {
    "4bd73485-9fd5-4096-8814-c817662406a7": {
     "id": "4bd73485-9fd5-4096-8814-c817662406a7",
     "prev": "dbf783ff-5a04-4fa0-b3d4-fb2fad499daa",
     "regions": {
      "8ecac9ee-428d-49e9-b081-3da900098bff": {
       "attrs": {
        "height": 0.06382978723404255,
        "width": 1,
        "x": 0,
        "y": 0
       },
       "content": {
        "cell": "8ac1c575-9e5a-4913-b78c-7e7552efdb9a",
        "part": "source"
       },
       "id": "8ecac9ee-428d-49e9-b081-3da900098bff"
      },
      "d0134544-6b34-46c0-aad9-fc18d211b2a6": {
       "attrs": {
        "height": 0.9359851988899168,
        "width": 0.9998149861239594,
        "x": 9.252281788866513e-05,
        "y": 0.06392229417206292
       },
       "content": {
        "cell": "eae5b528-7712-4b7a-89ad-fe1af3e504f6",
        "part": "whole"
       },
       "id": "d0134544-6b34-46c0-aad9-fc18d211b2a6"
      }
     }
    },
    "8e1b410a-027e-4b22-9186-6b0fef79f016": {
     "id": "8e1b410a-027e-4b22-9186-6b0fef79f016",
     "prev": "4bd73485-9fd5-4096-8814-c817662406a7",
     "regions": {
      "07fe9011-0d88-40ef-aa92-9a1fb78d8bc0": {
       "attrs": {
        "height": 0.06382978723404255,
        "width": 1,
        "x": 0,
        "y": 0
       },
       "content": {
        "cell": "8ecb2519-3cef-4773-b460-7eab11068b6b",
        "part": "source"
       },
       "id": "07fe9011-0d88-40ef-aa92-9a1fb78d8bc0"
      },
      "8a93a17a-834e-4900-9b9e-1348bf3c3209": {
       "attrs": {
        "height": 0.9359851988899168,
        "width": 0.9998149861239594,
        "x": 9.252281788866513e-05,
        "y": 0.06392229417206292
       },
       "content": {
        "cell": "88bf0bbd-82d0-4e64-8d51-5ab4f58c9f45",
        "part": "whole"
       },
       "id": "8a93a17a-834e-4900-9b9e-1348bf3c3209"
      }
     }
    },
    "dbf783ff-5a04-4fa0-b3d4-fb2fad499daa": {
     "id": "dbf783ff-5a04-4fa0-b3d4-fb2fad499daa",
     "prev": null,
     "regions": {
      "af00fb55-b1a9-4d13-a7f0-fe9230e410fe": {
       "attrs": {
        "height": 0.06382978723404255,
        "width": 1,
        "x": 0,
        "y": 0
       },
       "content": {
        "cell": "7afaa509-eaa6-4e7f-aaff-9c736da6e3f0",
        "part": "source"
       },
       "id": "af00fb55-b1a9-4d13-a7f0-fe9230e410fe"
      },
      "c2a5ffe4-5a5c-471f-b611-3d60b398ddfc": {
       "attrs": {
        "height": 0.8721554116558743,
        "width": 1.000335337650324,
        "x": -0.00042784458834417056,
        "y": 0.128677150786309
       },
       "content": {
        "cell": "f0ca01a0-8be7-4a6d-a950-7fb6b3c11ef3",
        "part": "whole"
       },
       "id": "c2a5ffe4-5a5c-471f-b611-3d60b398ddfc"
      },
      "c30eeff9-6253-4415-a4b4-fd952df543ec": {
       "attrs": {
        "height": 0.06456984273820543,
        "width": 0.9998149861239594,
        "x": 9.252281788866513e-05,
        "y": 0.06392229417206292
       },
       "content": {
        "cell": "e2f2c44b-60e4-4e62-a670-4146a3c4a804",
        "part": "source"
       },
       "id": "c30eeff9-6253-4415-a4b4-fd952df543ec"
      }
     }
    }
   },
   "themes": {}
  }
 },
 "nbformat": 4,
 "nbformat_minor": 0
}
