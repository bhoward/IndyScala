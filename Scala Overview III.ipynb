{
 "cells": [
  {
   "cell_type": "markdown",
   "metadata": {},
   "source": [
    "# Scala Is... A Functional Language"
   ]
  },
  {
   "cell_type": "markdown",
   "metadata": {
    "collapsed": true
   },
   "source": [
    "* Function Values"
   ]
  },
  {
   "cell_type": "code",
   "execution_count": 15,
   "metadata": {
    "collapsed": false
   },
   "outputs": [
    {
     "name": "stdout",
     "output_type": "stream",
     "text": [
      "1\n",
      "2\n",
      "1\n",
      "2\n",
      "1\n",
      "2\n",
      "1\n",
      "2\n"
     ]
    },
    {
     "data": {
      "text/plain": [
       "\u001b[36ma\u001b[0m: \u001b[32mArray\u001b[0m[\u001b[32mInt\u001b[0m] = \u001b[33mArray\u001b[0m(\u001b[32m1\u001b[0m, \u001b[32m2\u001b[0m)\n",
       "\u001b[36mres14_5\u001b[0m: \u001b[32mInt\u001b[0m = \u001b[32m3\u001b[0m\n",
       "\u001b[36mres14_6\u001b[0m: \u001b[32mInt\u001b[0m = \u001b[32m3\u001b[0m\n",
       "\u001b[36mres14_7\u001b[0m: \u001b[32mInt\u001b[0m = \u001b[32m3\u001b[0m"
      ]
     },
     "metadata": {},
     "output_type": "display_data"
    }
   ],
   "source": [
    "val a = Array(1, 2)\n",
    "a.foreach(println)\n",
    "a.foreach(println(_))\n",
    "a.foreach(n => println(n))\n",
    "a.foreach(new Function1[Int, Unit]{def apply(n: Int): Unit = println(n)})\n",
    "\n",
    "a.reduceLeft(_ + _)\n",
    "a.reduceLeft((x: Int, y: Int) => x + y)\n",
    "a.reduceLeft(new Function2[Int, Int, Int]{def apply(x: Int, y: Int): Int = x + y})"
   ]
  },
  {
   "cell_type": "markdown",
   "metadata": {},
   "source": [
    "* Algebraic Data Types and Pattern Matching"
   ]
  },
  {
   "cell_type": "code",
   "execution_count": 10,
   "metadata": {
    "collapsed": false
   },
   "outputs": [
    {
     "name": "stdout",
     "output_type": "stream",
     "text": [
      "4\n",
      "true\n",
      "false\n",
      "true\n",
      "true\n",
      "true\n"
     ]
    },
    {
     "data": {
      "text/plain": [
       "defined \u001b[32mtrait \u001b[36mBST\u001b[0m\n",
       "defined \u001b[32mobject \u001b[36mEmpty\u001b[0m\n",
       "defined \u001b[32mclass \u001b[36mNode\u001b[0m\n",
       "defined \u001b[32mfunction \u001b[36msize\u001b[0m\n",
       "defined \u001b[32mfunction \u001b[36minsert\u001b[0m\n",
       "defined \u001b[32mfunction \u001b[36mcontains\u001b[0m\n",
       "\u001b[36mt\u001b[0m: \u001b[32m$user\u001b[0m.\u001b[32mBST\u001b[0m = Node(Node(Empty,1,Empty),3,Node(Empty,4,Node(Empty,5,Empty)))"
      ]
     },
     "metadata": {},
     "output_type": "display_data"
    }
   ],
   "source": [
    "sealed trait BST\n",
    "case object Empty extends BST\n",
    "case class Node(left: BST, value: Int, right: BST) extends BST\n",
    "\n",
    "def size(t: BST): Int = t match {\n",
    "  case Empty => 0\n",
    "  case Node(left, _, right) => size(left) + 1 + size(right)\n",
    "}\n",
    "\n",
    "def insert(t: BST, n: Int): BST = t match {\n",
    "  case Empty => Node(Empty, n, Empty)\n",
    "  case Node(left, value, right) =>\n",
    "    if (n < value) Node(insert(left, n), value, right)\n",
    "    else if (n > value) Node(left, value, insert(right, n))\n",
    "    else t\n",
    "}\n",
    "\n",
    "def contains(t: BST, n: Int): Boolean = t match {\n",
    "  case Empty => false\n",
    "  case Node(left, value, right) =>\n",
    "    if (n < value) contains(left, n)\n",
    "    else if (n > value) contains(right, n)\n",
    "    else true\n",
    "}\n",
    "\n",
    "val t = Array(3, 1, 4, 1, 5).foldLeft[BST](Empty)(insert)\n",
    "println(size(t))\n",
    "for (n <- 1 to 5) println(contains(t, n))"
   ]
  },
  {
   "cell_type": "markdown",
   "metadata": {},
   "source": [
    "* For Comprehensions (Monads)"
   ]
  },
  {
   "cell_type": "code",
   "execution_count": 14,
   "metadata": {
    "collapsed": false
   },
   "outputs": [
    {
     "name": "stdout",
     "output_type": "stream",
     "text": [
      "1\n",
      "2\n",
      "3\n",
      "1\n",
      "2\n",
      "3\n"
     ]
    },
    {
     "data": {
      "text/plain": [
       "\u001b[36ma\u001b[0m: \u001b[32mArray\u001b[0m[\u001b[32mInt\u001b[0m] = \u001b[33mArray\u001b[0m(\u001b[32m1\u001b[0m, \u001b[32m2\u001b[0m, \u001b[32m3\u001b[0m)\n",
       "\u001b[36mres13_3\u001b[0m: \u001b[32mArray\u001b[0m[\u001b[32mInt\u001b[0m] = \u001b[33mArray\u001b[0m(\u001b[32m1\u001b[0m, \u001b[32m4\u001b[0m, \u001b[32m9\u001b[0m)\n",
       "\u001b[36mres13_4\u001b[0m: \u001b[32mArray\u001b[0m[\u001b[32mInt\u001b[0m] = \u001b[33mArray\u001b[0m(\u001b[32m1\u001b[0m, \u001b[32m4\u001b[0m, \u001b[32m9\u001b[0m)\n",
       "\u001b[36mres13_5\u001b[0m: \u001b[32mArray\u001b[0m[\u001b[32mInt\u001b[0m] = \u001b[33mArray\u001b[0m(\u001b[32m1\u001b[0m, \u001b[32m9\u001b[0m)\n",
       "\u001b[36mres13_6\u001b[0m: \u001b[32mArray\u001b[0m[\u001b[32mInt\u001b[0m] = \u001b[33mArray\u001b[0m(\u001b[32m1\u001b[0m, \u001b[32m9\u001b[0m)\n",
       "\u001b[36mres13_7\u001b[0m: \u001b[32mArray\u001b[0m[\u001b[32mString\u001b[0m] = \u001b[33mArray\u001b[0m(\u001b[32m\"1:1\"\u001b[0m, \u001b[32m\"2:1\"\u001b[0m, \u001b[32m\"2:2\"\u001b[0m, \u001b[32m\"3:1\"\u001b[0m, \u001b[32m\"3:2\"\u001b[0m, \u001b[32m\"3:3\"\u001b[0m)\n",
       "\u001b[36mres13_8\u001b[0m: \u001b[32mArray\u001b[0m[\u001b[32mString\u001b[0m] = \u001b[33mArray\u001b[0m(\u001b[32m\"1:1\"\u001b[0m, \u001b[32m\"2:1\"\u001b[0m, \u001b[32m\"2:2\"\u001b[0m, \u001b[32m\"3:1\"\u001b[0m, \u001b[32m\"3:2\"\u001b[0m, \u001b[32m\"3:3\"\u001b[0m)"
      ]
     },
     "metadata": {},
     "output_type": "display_data"
    }
   ],
   "source": [
    "val a = Array(1, 2, 3)\n",
    "\n",
    "for (x <- a) println(x)\n",
    "a.foreach(x => println(x))\n",
    "\n",
    "for (x <- a) yield x*x\n",
    "a.map(x => x*x)\n",
    "\n",
    "for (x <- a if x%2 == 1) yield x*x\n",
    "a.withFilter(x => x%2 == 1).map(x => x*x)\n",
    "\n",
    "for (x <- a; y <- 1 to x) yield s\"$x:$y\"\n",
    "a.flatMap(x => (1 to x).map(y => s\"$x:$y\"))"
   ]
  }
 ],
 "metadata": {
  "anaconda-cloud": {},
  "kernelspec": {
   "display_name": "Scala 2.11",
   "language": "scala211",
   "name": "scala211"
  },
  "language_info": {
   "codemirror_mode": "text/x-scala",
   "file_extension": ".scala",
   "mimetype": "text/x-scala",
   "name": "scala211",
   "pygments_lexer": "scala",
   "version": "2.11.7"
  }
 },
 "nbformat": 4,
 "nbformat_minor": 0
}
