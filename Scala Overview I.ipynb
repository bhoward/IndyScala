{
 "cells": [
  {
   "cell_type": "markdown",
   "metadata": {
    "nbpresent": {
     "id": "165d6ff0-07a2-4af3-aafc-c44b706d71fc"
    }
   },
   "source": [
    "# Scala Is... Just Like Java"
   ]
  },
  {
   "cell_type": "code",
   "execution_count": 1,
   "metadata": {
    "collapsed": false,
    "nbpresent": {
     "id": "54d05a7e-a153-4c0b-8aeb-7a7d9882de5c"
    }
   },
   "outputs": [
    {
     "name": "stdout",
     "output_type": "stream",
     "text": [
      "Still going!\n",
      "Still going!\n",
      "Still going!\n",
      "Still going!\n",
      "Still going!\n",
      "Still going!\n",
      "Still going!\n",
      "Still going!\n",
      "Still going!\n",
      "Still going!\n",
      "Still going!\n",
      "Still going!\n",
      "Still going!\n",
      "Still going!\n",
      "Still going!\n",
      "Still going!\n",
      "Still going!\n",
      "Still going!\n",
      "Done!\n"
     ]
    },
    {
     "data": {
      "text/plain": []
     },
     "metadata": {},
     "output_type": "display_data"
    }
   ],
   "source": [
    "while (Math.random() < 0.9) {\n",
    "    println(\"Still going!\");\n",
    "}\n",
    "println(\"Done!\");"
   ]
  },
  {
   "cell_type": "markdown",
   "metadata": {
    "nbpresent": {
     "id": "0005c1b9-6885-49e2-b84b-c46fd5948c85"
    }
   },
   "source": [
    "## Except for Trivia:"
   ]
  },
  {
   "cell_type": "markdown",
   "metadata": {
    "nbpresent": {
     "id": "8671599a-73be-4452-b731-193ce083836a"
    }
   },
   "source": [
    "* Variable Declarations are Backwards:"
   ]
  },
  {
   "cell_type": "code",
   "execution_count": 2,
   "metadata": {
    "collapsed": false,
    "nbpresent": {
     "id": "b26553c5-b679-4d10-a12a-736ff39950d3"
    }
   },
   "outputs": [
    {
     "name": "stdout",
     "output_type": "stream",
     "text": [
      "Step 1\n",
      "Step 2\n",
      "Step 3\n",
      "Step 4\n",
      "Step 5\n",
      "Step 6\n",
      "Step 7\n",
      "Step 8\n",
      "Step 9\n",
      "Step 10\n"
     ]
    },
    {
     "data": {
      "text/plain": [
       "\u001b[36mN\u001b[0m: \u001b[32mInt\u001b[0m = \u001b[32m10\u001b[0m\n",
       "\u001b[36mi\u001b[0m: \u001b[32mInt\u001b[0m = \u001b[32m11\u001b[0m"
      ]
     },
     "metadata": {},
     "output_type": "display_data"
    }
   ],
   "source": [
    "// final int N = 100;\n",
    "val N: Int = 10;\n",
    "\n",
    "// int i = 1;\n",
    "var i: Int = 1;\n",
    "\n",
    "while (i <= N) {\n",
    "  println(\"Step \" + i);\n",
    "  i = i + 1; // or i += 1, but not i++\n",
    "}"
   ]
  },
  {
   "cell_type": "markdown",
   "metadata": {
    "nbpresent": {
     "id": "85a13bde-4814-4a91-bd71-d7ca73dbab28"
    }
   },
   "source": [
    "* Optional Semicolons and Types:"
   ]
  },
  {
   "cell_type": "code",
   "execution_count": 3,
   "metadata": {
    "collapsed": false,
    "nbpresent": {
     "id": "8197f4bf-ca95-4481-823c-31ee687c4533"
    }
   },
   "outputs": [
    {
     "name": "stdout",
     "output_type": "stream",
     "text": [
      "Step 1\n",
      "Step 2\n",
      "Step 3\n",
      "Step 4\n",
      "Step 5\n",
      "Step 6\n",
      "Step 7\n",
      "Step 8\n",
      "Step 9\n",
      "Step 10\n"
     ]
    },
    {
     "data": {
      "text/plain": [
       "\u001b[36mN\u001b[0m: \u001b[32mInt\u001b[0m = \u001b[32m10\u001b[0m\n",
       "\u001b[36mi\u001b[0m: \u001b[32mInt\u001b[0m = \u001b[32m11\u001b[0m"
      ]
     },
     "metadata": {},
     "output_type": "display_data"
    }
   ],
   "source": [
    "val N = 10\n",
    "var i = 1\n",
    "while (i <= N) {\n",
    "  println(\"Step \" + i)\n",
    "  i = i + 1\n",
    "}"
   ]
  },
  {
   "cell_type": "markdown",
   "metadata": {
    "nbpresent": {
     "id": "8830654d-a508-48c0-974d-724215f302fb"
    }
   },
   "source": [
    "* Unified Operators and Methods:"
   ]
  },
  {
   "cell_type": "code",
   "execution_count": 4,
   "metadata": {
    "collapsed": false,
    "nbpresent": {
     "id": "2f262dd4-992a-494a-b5b8-f7face8450a7"
    }
   },
   "outputs": [
    {
     "name": "stdout",
     "output_type": "stream",
     "text": [
      "5\n",
      "5\n",
      "3\n",
      "3\n"
     ]
    },
    {
     "data": {
      "text/plain": []
     },
     "metadata": {},
     "output_type": "display_data"
    }
   ],
   "source": [
    "println( 2 + 3 )\n",
    "println( 2.+(3) )\n",
    "println( 2.max(3) )\n",
    "println( 2 max 3 )"
   ]
  },
  {
   "cell_type": "markdown",
   "metadata": {
    "nbpresent": {
     "id": "381b26d6-a635-425b-a95a-2dd539534cb8"
    }
   },
   "source": [
    "* Function-syntax for Arrays:"
   ]
  },
  {
   "cell_type": "code",
   "execution_count": 5,
   "metadata": {
    "collapsed": false,
    "nbpresent": {
     "id": "60584fa6-4dd7-40d8-8571-ff19e173733e"
    }
   },
   "outputs": [
    {
     "data": {
      "text/plain": [
       "\u001b[36mfib\u001b[0m: \u001b[32mArray\u001b[0m[\u001b[32mInt\u001b[0m] = \u001b[33mArray\u001b[0m(\u001b[32m0\u001b[0m, \u001b[32m1\u001b[0m, \u001b[32m1\u001b[0m, \u001b[32m2\u001b[0m, \u001b[32m3\u001b[0m, \u001b[32m5\u001b[0m, \u001b[32m8\u001b[0m, \u001b[32m13\u001b[0m, \u001b[32m21\u001b[0m, \u001b[32m34\u001b[0m)\n",
       "\u001b[36mi\u001b[0m: \u001b[32mInt\u001b[0m = \u001b[32m10\u001b[0m"
      ]
     },
     "metadata": {},
     "output_type": "display_data"
    }
   ],
   "source": [
    "val fib = new Array[Int](10)\n",
    "fib(0) = 0\n",
    "fib(1) = 1\n",
    "var i = 2\n",
    "while (i < fib.size) {\n",
    "  fib(i) = fib(i-1) + fib(i-2)\n",
    "  i += 1\n",
    "}"
   ]
  },
  {
   "cell_type": "markdown",
   "metadata": {
    "nbpresent": {
     "id": "effc8b10-7a82-4613-97a3-225755c94fec"
    }
   },
   "source": [
    "* Generalized For-loops (but more later):"
   ]
  },
  {
   "cell_type": "code",
   "execution_count": 6,
   "metadata": {
    "collapsed": false,
    "nbpresent": {
     "id": "ee235bc6-515b-4b8f-95e9-c196fbbf5757"
    }
   },
   "outputs": [
    {
     "name": "stdout",
     "output_type": "stream",
     "text": [
      "Step 1\n",
      "Step 2\n",
      "Step 3\n",
      "Step 4\n",
      "Step 5\n",
      "Step 6\n",
      "Step 7\n",
      "Step 8\n",
      "Step 9\n",
      "Step 10\n",
      "\n",
      "#\n",
      "#\n",
      "##\n",
      "###\n",
      "#####\n",
      "########\n",
      "#############\n",
      "#####################\n",
      "##################################\n"
     ]
    },
    {
     "data": {
      "text/plain": []
     },
     "metadata": {},
     "output_type": "display_data"
    }
   ],
   "source": [
    "for (i <- 1 to 10) {\n",
    "  println(s\"Step $i\")\n",
    "}\n",
    "for (x <- fib) {  // compare to: for (int x : fib)\n",
    "  println(\"#\" * x)\n",
    "}"
   ]
  },
  {
   "cell_type": "markdown",
   "metadata": {
    "nbpresent": {
     "id": "0b11146f-aa93-4aa3-ae5d-fd9793551417"
    }
   },
   "source": [
    "* Additional Syntactic Sugar (thanks to library support):"
   ]
  },
  {
   "cell_type": "code",
   "execution_count": 7,
   "metadata": {
    "collapsed": false,
    "nbpresent": {
     "id": "235be2a6-bf5e-4c33-bcea-ddfc5d0a1b03"
    }
   },
   "outputs": [
    {
     "data": {
      "text/plain": [
       "\u001b[36mx\u001b[0m: (\u001b[32mString\u001b[0m, \u001b[32mInt\u001b[0m) = \u001b[33m\u001b[0m(\u001b[32m\"Brian\"\u001b[0m, \u001b[32m51\u001b[0m)\n",
       "\u001b[36my\u001b[0m: (\u001b[32mString\u001b[0m, \u001b[32mInt\u001b[0m) = \u001b[33m\u001b[0m(\u001b[32m\"Alice\"\u001b[0m, \u001b[32m11\u001b[0m)\n",
       "\u001b[36mname1\u001b[0m: \u001b[32mString\u001b[0m = \u001b[32m\"Brian\"\u001b[0m\n",
       "\u001b[36mage1\u001b[0m: \u001b[32mInt\u001b[0m = \u001b[32m51\u001b[0m\n",
       "\u001b[36mname2\u001b[0m: \u001b[32mString\u001b[0m = \u001b[32m\"Alice\"\u001b[0m\n",
       "\u001b[36mage2\u001b[0m: \u001b[32mInt\u001b[0m = \u001b[32m11\u001b[0m\n",
       "\u001b[36mfamily\u001b[0m: \u001b[32mMap\u001b[0m[\u001b[32mString\u001b[0m, \u001b[32mInt\u001b[0m] = \u001b[33mMap\u001b[0m(\n",
       "  \u001b[32m\"Susanna\"\u001b[0m -> \u001b[32m16\u001b[0m,\n",
       "  \u001b[32m\"Brian\"\u001b[0m -> \u001b[32m51\u001b[0m,\n",
       "  \u001b[32m\"Eleanor\"\u001b[0m -> \u001b[32m50\u001b[0m,\n",
       "  \u001b[32m\"George\"\u001b[0m -> \u001b[32m19\u001b[0m,\n",
       "  \u001b[32m\"Alice\"\u001b[0m -> \u001b[32m11\u001b[0m\n",
       ")\n",
       "\u001b[36mbrianAge\u001b[0m: \u001b[32mInt\u001b[0m = \u001b[32m51\u001b[0m\n",
       "\u001b[36mmulti\u001b[0m: \u001b[32mString\u001b[0m = \u001b[32m\"\"\"\n",
       "object Demo {\n",
       "  def main(Array[String] args): Unit = {\n",
       "    println(\"Hello World!\")\n",
       "  }\n",
       "}\n",
       "\"\"\"\u001b[0m\n",
       "defined \u001b[32mfunction \u001b[36mageMessage\u001b[0m\n",
       "\u001b[36mres6_8\u001b[0m: \u001b[32mString\u001b[0m = \u001b[32m\"Brian's age is 51.\"\u001b[0m"
      ]
     },
     "metadata": {},
     "output_type": "display_data"
    }
   ],
   "source": [
    "// pairs\n",
    "val x = (\"Brian\", 51)\n",
    "val y = \"Alice\" -> 11\n",
    "val (name1, age1) = x\n",
    "val (name2, age2) = y\n",
    "\n",
    "// maps\n",
    "val family = Map(\"Brian\" -> 51, \"Eleanor\" -> 50, \"George\" -> 19, \"Susanna\" -> 16, \"Alice\" -> 11)\n",
    "val brianAge = family(\"Brian\")  // short for family.apply(\"Brian\")\n",
    "// val sallyAge = family(\"Sally\")\n",
    "\n",
    "// strings\n",
    "val multi =\n",
    "\"\"\"object Demo {\n",
    "  |  def main(Array[String] args): Unit = {\n",
    "  |    println(\"Hello World!\")\n",
    "  |  }\n",
    "  |}\"\"\".stripMargin\n",
    "\n",
    "def ageMessage(name: String): String = s\"$name's age is ${family(name)}.\"\n",
    "ageMessage(\"Brian\")"
   ]
  }
 ],
 "metadata": {
  "anaconda-cloud": {},
  "celltoolbar": "Slideshow",
  "kernelspec": {
   "display_name": "Scala 2.11",
   "language": "scala211",
   "name": "scala211"
  },
  "language_info": {
   "codemirror_mode": "text/x-scala",
   "file_extension": ".scala",
   "mimetype": "text/x-scala",
   "name": "scala211",
   "pygments_lexer": "scala",
   "version": "2.11.7"
  },
  "nbpresent": {
   "slides": {
    "1ddbeae8-2467-4130-9497-7c1dab6aa5b7": {
     "id": "1ddbeae8-2467-4130-9497-7c1dab6aa5b7",
     "layout": "manual",
     "prev": null,
     "regions": {
      "9842f34c-cb52-47e2-b1e1-2a0300ca766c": {
       "attrs": {
        "height": 0.9304347826086957,
        "width": 0.9998149861239594,
        "x": -0.001468531761204767,
        "y": 0.06762257169287698
       },
       "content": {
        "cell": "54d05a7e-a153-4c0b-8aeb-7a7d9882de5c",
        "part": "whole"
       },
       "height": 0.934,
       "id": "9842f34c-cb52-47e2-b1e1-2a0300ca766c",
       "x": 0,
       "y": 0.066
      },
      "b0cb719e-c661-4001-93d1-3a0299da08c4": {
       "attrs": {
        "height": 0.06567992599444958,
        "pad": 0.01,
        "treemap:weight": 1,
        "width": 0.9984389454209066,
        "x": 0,
        "y": 0
       },
       "content": {
        "cell": "165d6ff0-07a2-4af3-aafc-c44b706d71fc",
        "part": "source"
       },
       "id": "b0cb719e-c661-4001-93d1-3a0299da08c4",
       "width": 1
      }
     }
    },
    "5cca92e0-99e5-474c-b465-610b35e37058": {
     "id": "5cca92e0-99e5-474c-b465-610b35e37058",
     "layout": "manual",
     "prev": "803a7737-eda1-40e9-aeee-8c25aade8475",
     "regions": {
      "057172de-d5eb-433b-864d-6eece396e5c4": {
       "attrs": {
        "height": 0.06567992599444958,
        "pad": 0.01,
        "treemap:weight": 1,
        "width": 0.9984389454209066,
        "x": 0,
        "y": 0
       },
       "content": {
        "cell": "effc8b10-7a82-4613-97a3-225755c94fec",
        "part": "source"
       },
       "id": "057172de-d5eb-433b-864d-6eece396e5c4",
       "width": 1
      },
      "dcf5b868-2e50-442d-90ab-9882bfb7ee51": {
       "attrs": {
        "height": 0.9304347826086957,
        "width": 0.9998149861239594,
        "x": -0.001468531761204767,
        "y": 0.06762257169287698
       },
       "content": {
        "cell": "ee235bc6-515b-4b8f-95e9-c196fbbf5757",
        "part": "whole"
       },
       "height": 0.934,
       "id": "dcf5b868-2e50-442d-90ab-9882bfb7ee51",
       "x": 0,
       "y": 0.066
      }
     }
    },
    "803a7737-eda1-40e9-aeee-8c25aade8475": {
     "id": "803a7737-eda1-40e9-aeee-8c25aade8475",
     "layout": "manual",
     "prev": "ab2e1628-1dcb-44d7-8d8a-1639b0b6f876",
     "regions": {
      "255ef077-6d5a-4acb-8fa0-284c6c4abf73": {
       "attrs": {
        "height": 0.9304347826086957,
        "width": 0.9998149861239594,
        "x": -0.001468531761204767,
        "y": 0.06762257169287698
       },
       "content": {
        "cell": "60584fa6-4dd7-40d8-8571-ff19e173733e",
        "part": "whole"
       },
       "height": 0.934,
       "id": "255ef077-6d5a-4acb-8fa0-284c6c4abf73",
       "x": 0,
       "y": 0.066
      },
      "682f1242-f6ec-477a-a435-e0e019739890": {
       "attrs": {
        "height": 0.06567992599444958,
        "pad": 0.01,
        "treemap:weight": 1,
        "width": 0.9984389454209066,
        "x": 0,
        "y": 0
       },
       "content": {
        "cell": "381b26d6-a635-425b-a95a-2dd539534cb8",
        "part": "source"
       },
       "id": "682f1242-f6ec-477a-a435-e0e019739890",
       "width": 1
      }
     }
    },
    "8607579a-81e4-4316-97b7-d7ea405cb309": {
     "id": "8607579a-81e4-4316-97b7-d7ea405cb309",
     "layout": "manual",
     "prev": "1ddbeae8-2467-4130-9497-7c1dab6aa5b7",
     "regions": {
      "ca91cd8a-671f-4dcd-8461-e5e10620be09": {
       "attrs": {
        "height": 0.06827012025901949,
        "width": 0.9987742830712304,
        "x": 0.0006128743442531425,
        "y": 0.07132284921369104
       },
       "content": {
        "cell": "8671599a-73be-4452-b731-193ce083836a",
        "part": "source"
       },
       "height": 0.066,
       "id": "ca91cd8a-671f-4dcd-8461-e5e10620be09",
       "width": 1,
       "x": 0,
       "y": 0.066
      },
      "f862e55f-4a1e-47b0-9fd2-7e2e56fea3fe": {
       "attrs": {
        "height": 0.8582793709528215,
        "width": 0.9998149861239594,
        "x": 0.0006128743442531425,
        "y": 0.1407030527289547
       },
       "content": {
        "cell": "b26553c5-b679-4d10-a12a-736ff39950d3",
        "part": "whole"
       },
       "height": 0.868,
       "id": "f862e55f-4a1e-47b0-9fd2-7e2e56fea3fe",
       "x": 0,
       "y": 0.132
      },
      "fd70f378-b7d2-4143-a616-bdb7c5d6abac": {
       "attrs": {
        "height": 0.07030527289546716,
        "pad": 0.01,
        "treemap:weight": 1,
        "width": 0.9984389454209066,
        "x": 0,
        "y": 0
       },
       "content": {
        "cell": "0005c1b9-6885-49e2-b84b-c46fd5948c85",
        "part": "source"
       },
       "height": 0.066,
       "id": "fd70f378-b7d2-4143-a616-bdb7c5d6abac",
       "width": 1
      }
     }
    },
    "ab2e1628-1dcb-44d7-8d8a-1639b0b6f876": {
     "id": "ab2e1628-1dcb-44d7-8d8a-1639b0b6f876",
     "layout": "manual",
     "prev": "cc508b92-ef95-48ee-9a00-36552a412a70",
     "regions": {
      "600ecbb2-5f4c-4da7-8734-41d44238744e": {
       "attrs": {
        "height": 0.06567992599444958,
        "pad": 0.01,
        "treemap:weight": 1,
        "width": 0.9984389454209066,
        "x": 0,
        "y": 0
       },
       "content": {
        "cell": "8830654d-a508-48c0-974d-724215f302fb",
        "part": "source"
       },
       "id": "600ecbb2-5f4c-4da7-8734-41d44238744e",
       "width": 1
      },
      "d3c78095-c854-4450-ba8b-b9fcaa7671c2": {
       "attrs": {
        "height": 0.9304347826086957,
        "width": 0.9998149861239594,
        "x": -0.001468531761204767,
        "y": 0.06762257169287698
       },
       "content": {
        "cell": "2f262dd4-992a-494a-b5b8-f7face8450a7",
        "part": "whole"
       },
       "height": 0.934,
       "id": "d3c78095-c854-4450-ba8b-b9fcaa7671c2",
       "x": 0,
       "y": 0.066
      }
     }
    },
    "cc508b92-ef95-48ee-9a00-36552a412a70": {
     "id": "cc508b92-ef95-48ee-9a00-36552a412a70",
     "layout": "manual",
     "prev": "8607579a-81e4-4316-97b7-d7ea405cb309",
     "regions": {
      "891ce9d1-8dba-4fda-9757-58b50bab6b54": {
       "attrs": {
        "height": 0.9304347826086957,
        "width": 0.9998149861239594,
        "x": -0.001468531761204767,
        "y": 0.06762257169287698
       },
       "content": {
        "cell": "8197f4bf-ca95-4481-823c-31ee687c4533",
        "part": "whole"
       },
       "height": 0.934,
       "id": "891ce9d1-8dba-4fda-9757-58b50bab6b54",
       "x": 0,
       "y": 0.066
      },
      "98b0b4ed-54ce-4c48-b595-f27e4327fb03": {
       "attrs": {
        "height": 0.06567992599444958,
        "pad": 0.01,
        "treemap:weight": 1,
        "width": 0.9984389454209066,
        "x": 0,
        "y": 0
       },
       "content": {
        "cell": "85a13bde-4814-4a91-bd71-d7ca73dbab28",
        "part": "source"
       },
       "id": "98b0b4ed-54ce-4c48-b595-f27e4327fb03",
       "width": 1
      }
     }
    },
    "f55d4a27-b088-4211-a8f1-9a089dff8336": {
     "id": "f55d4a27-b088-4211-a8f1-9a089dff8336",
     "layout": "manual",
     "prev": "5cca92e0-99e5-474c-b465-610b35e37058",
     "regions": {
      "09e2dd95-c34c-4e15-b676-2dfa9a921310": {
       "attrs": {
        "height": 0.06567992599444958,
        "pad": 0.01,
        "treemap:weight": 1,
        "width": 0.9984389454209066,
        "x": 0,
        "y": 0
       },
       "content": {
        "cell": "0b11146f-aa93-4aa3-ae5d-fd9793551417",
        "part": "source"
       },
       "id": "09e2dd95-c34c-4e15-b676-2dfa9a921310",
       "width": 1
      },
      "437307c2-00fd-463b-bf4e-b2105f7019dd": {
       "attrs": {
        "height": 0.9304347826086957,
        "width": 0.9998149861239594,
        "x": -0.001468531761204767,
        "y": 0.06762257169287698
       },
       "content": {
        "cell": "235be2a6-bf5e-4c33-bcea-ddfc5d0a1b03",
        "part": "whole"
       },
       "height": 0.934,
       "id": "437307c2-00fd-463b-bf4e-b2105f7019dd",
       "x": 0,
       "y": 0.066
      }
     }
    }
   },
   "themes": {}
  }
 },
 "nbformat": 4,
 "nbformat_minor": 0
}
