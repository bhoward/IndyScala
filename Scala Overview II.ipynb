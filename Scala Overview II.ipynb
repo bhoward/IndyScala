{
 "cells": [
  {
   "cell_type": "markdown",
   "metadata": {
    "nbpresent": {
     "id": "ddae96c3-ab09-487e-be3d-f2ceb0aae346"
    }
   },
   "source": [
    "# Scala Is... A Better Java"
   ]
  },
  {
   "cell_type": "markdown",
   "metadata": {
    "nbpresent": {
     "id": "03116d39-cdd0-4090-b3b0-b96903640a30"
    }
   },
   "source": [
    "* Simplified Class Definition"
   ]
  },
  {
   "cell_type": "markdown",
   "metadata": {
    "nbpresent": {
     "id": "c526ad2a-e07e-418f-be4f-c7b427675d38"
    }
   },
   "source": [
    "```java\n",
    "// Java:\n",
    "public class Foo {\n",
    "  private char c;\n",
    "  private int n;\n",
    "  private String s;\n",
    "  \n",
    "  public Foo(char c, int n, String s) {\n",
    "    this.c = c;\n",
    "    this.n = n;\n",
    "    this.s = s;\n",
    "  }\n",
    "  \n",
    "  public Foo(char c, int n) {\n",
    "    this(c, n, \"<Nothing>\");\n",
    "  }\n",
    "  \n",
    "  public Foo(int n, String s) {\n",
    "    this('-', n, s);\n",
    "  }\n",
    "  \n",
    "  public Foo(int n) {\n",
    "    this('-', n, \"<Nothing>\");\n",
    "  }\n",
    "  \n",
    "  public int getN() {\n",
    "    return n;\n",
    "  }\n",
    "  \n",
    "  public String getS() {\n",
    "    return s;\n",
    "  }\n",
    "  \n",
    "  public void setS(String s) {\n",
    "    this.s = s;\n",
    "  }\n",
    "  \n",
    "  public String toString() {\n",
    "    return \"Foo(\" + n + c + s + \")\";\n",
    "  }\n",
    "}\n",
    "```"
   ]
  },
  {
   "cell_type": "code",
   "execution_count": 1,
   "metadata": {
    "collapsed": false,
    "nbpresent": {
     "id": "ecddb84f-da7c-4b41-a3f2-f53596f1bc56"
    }
   },
   "outputs": [
    {
     "name": "stdout",
     "output_type": "stream",
     "text": [
      "Foo(42-<Nothing>)\n",
      "Foo(42-Hello)\n",
      "42\n",
      "Goodbye\n"
     ]
    },
    {
     "data": {
      "text/plain": [
       "defined \u001b[32mclass \u001b[36mFoo\u001b[0m\n",
       "\u001b[36mx\u001b[0m: \u001b[32m$user\u001b[0m.\u001b[32mFoo\u001b[0m = Foo(42-Goodbye)"
      ]
     },
     "metadata": {},
     "output_type": "display_data"
    }
   ],
   "source": [
    "class Foo(c: Char, val n: Int, var s: String = \"<Nothing>\") {\n",
    "  def this(n: Int, s: String) = this('-', n, s)\n",
    "  def this(n: Int) = this('-', n)\n",
    "  \n",
    "  override def toString(): String = s\"Foo($n$c$s)\"\n",
    "}\n",
    "\n",
    "val x = new Foo(42)\n",
    "println(x)\n",
    "x.s = \"Hello\"\n",
    "println(x)\n",
    "\n",
    "println(x.n)\n",
    "x.s_=(\"Goodbye\")\n",
    "println(x.s)"
   ]
  },
  {
   "cell_type": "markdown",
   "metadata": {
    "nbpresent": {
     "id": "4084a363-dd9e-42b7-ab2a-d8e7e89c9635"
    }
   },
   "source": [
    "* Objects (Singletons) and Companions (Static)"
   ]
  },
  {
   "cell_type": "code",
   "execution_count": 2,
   "metadata": {
    "collapsed": false,
    "nbpresent": {
     "id": "cc11db56-6be7-4ec0-b87c-131736db7e0f"
    }
   },
   "outputs": [
    {
     "data": {
      "text/plain": [
       "\u001b[32mimport \u001b[36mjava.io.File\u001b[0m\n",
       "defined \u001b[32mobject \u001b[36mGlobal\u001b[0m\n",
       "defined \u001b[32mclass \u001b[36mFoo\u001b[0m\n",
       "defined \u001b[32mobject \u001b[36mFoo\u001b[0m\n",
       "\u001b[36mout\u001b[0m: \u001b[32mjava\u001b[0m.\u001b[32mio\u001b[0m.\u001b[32mPrintWriter\u001b[0m = java.io.PrintWriter@56189399\n",
       "\u001b[36mres1_8\u001b[0m: \u001b[32m$user\u001b[0m.\u001b[32mFoo\u001b[0m = Foo(23, skidoo)"
      ]
     },
     "metadata": {},
     "output_type": "display_data"
    }
   ],
   "source": [
    "import java.io.File\n",
    "\n",
    "object Global {\n",
    "  val VERSION = \"1.0\"\n",
    "  var workingDirectory: File = new File(\"\")\n",
    "  def findFile(name: String): File = new File(workingDirectory, name)\n",
    "}\n",
    "\n",
    "class Foo(val n: Int, var s: String) {\n",
    "  override def toString(): String = s\"Foo($n, $s)\"\n",
    "}\n",
    "\n",
    "object Foo {\n",
    "  def apply(n: Int, s: String): Foo = new Foo(n, s)\n",
    "  \n",
    "  def fromFile(file: File): Foo = {\n",
    "    import java.util.Scanner\n",
    "    \n",
    "    val in = new Scanner(file)\n",
    "    try {\n",
    "      val n = in.nextInt()\n",
    "      val s = in.next()\n",
    "      new Foo(n, s)\n",
    "    } finally {\n",
    "      in.close()\n",
    "    }\n",
    "  }\n",
    "}\n",
    "\n",
    "Global.workingDirectory = new File(\"/tmp\")\n",
    "val out = new java.io.PrintWriter(Global.findFile(\"demo.txt\"))\n",
    "out.println(\"23 skidoo\")\n",
    "out.close()\n",
    "Foo.fromFile(Global.findFile(\"demo.txt\"))"
   ]
  },
  {
   "cell_type": "markdown",
   "metadata": {
    "nbpresent": {
     "id": "988b1e3b-f971-4703-b58a-d61e21d9eaba"
    }
   },
   "source": [
    "* Multiple, Repeated, Named, and Default Parameters"
   ]
  },
  {
   "cell_type": "code",
   "execution_count": 3,
   "metadata": {
    "collapsed": false,
    "nbpresent": {
     "id": "9145bbe3-322d-47ac-9349-3121d9cdf4a7"
    }
   },
   "outputs": [
    {
     "name": "stdout",
     "output_type": "stream",
     "text": [
      "foo,bar,baz\n",
      "foo;bar;baz\n",
      "<foo,bar,baz>\n",
      "<foo - bar - baz>\n"
     ]
    },
    {
     "data": {
      "text/plain": [
       "defined \u001b[32mfunction \u001b[36mthing\u001b[0m"
      ]
     },
     "metadata": {},
     "output_type": "display_data"
    }
   ],
   "source": [
    "def thing(args: String*)(sep: String = \",\", start: String = \"\", end: String = \"\"): String = args.mkString(start, sep, end)\n",
    "\n",
    "println( thing(\"foo\", \"bar\", \"baz\")() )\n",
    "println( thing(\"foo\", \"bar\", \"baz\")(\";\") )\n",
    "println( thing(\"foo\", \"bar\", \"baz\")(start = \"<\", end = \">\") )\n",
    "println( thing(\"foo\", \"bar\", \"baz\")(start = \"<\", end = \">\", sep = \" - \") )"
   ]
  },
  {
   "cell_type": "markdown",
   "metadata": {
    "nbpresent": {
     "id": "9cbe154c-ae8a-4a17-bfcf-62b52b0ac825"
    }
   },
   "source": [
    "* By-Name Parameters and Lazy Values"
   ]
  },
  {
   "cell_type": "code",
   "execution_count": 4,
   "metadata": {
    "collapsed": false,
    "nbpresent": {
     "id": "d96f01f9-8a23-40fd-992f-12c678bf9fe7"
    }
   },
   "outputs": [
    {
     "name": "stdout",
     "output_type": "stream",
     "text": [
      "f\n",
      "Thinking...\n",
      "Result\n",
      "Thinking...\n",
      "Result\n",
      "g1\n",
      "Thinking...\n",
      "g2\n",
      "h1\n",
      "Thinking...\n",
      "Result\n",
      "Result\n",
      "h2\n",
      "Thinking...\n",
      "Result\n",
      "Result\n"
     ]
    },
    {
     "data": {
      "text/plain": [
       "defined \u001b[32mfunction \u001b[36mf\u001b[0m\n",
       "defined \u001b[32mfunction \u001b[36mg1\u001b[0m\n",
       "defined \u001b[32mfunction \u001b[36mg2\u001b[0m\n",
       "defined \u001b[32mfunction \u001b[36mh1\u001b[0m\n",
       "defined \u001b[32mfunction \u001b[36mh2\u001b[0m"
      ]
     },
     "metadata": {},
     "output_type": "display_data"
    }
   ],
   "source": [
    "def f(x: => String): Unit = {\n",
    "  println(\"f\")\n",
    "  println(x)\n",
    "  println(x)\n",
    "}\n",
    "\n",
    "def g1(x: => String): Unit = {\n",
    "  println(\"g1\")\n",
    "  val y = x\n",
    "}\n",
    "\n",
    "def g2(x: => String): Unit = {\n",
    "  println(\"g2\")\n",
    "  lazy val y = x\n",
    "}\n",
    "\n",
    "def h1(x: => String): Unit = {\n",
    "  println(\"h1\")\n",
    "  val y = x\n",
    "  println(y)\n",
    "  println(y)\n",
    "}\n",
    "\n",
    "def h2(x: => String): Unit = {\n",
    "  println(\"h2\")\n",
    "  lazy val y = x\n",
    "  println(y)\n",
    "  println(y)\n",
    "}\n",
    "\n",
    "f{ println(\"Thinking...\"); \"Result\" }\n",
    "g1{ println(\"Thinking...\"); \"Result\" }\n",
    "g2{ println(\"Thinking...\"); \"Result\" }\n",
    "h1{ println(\"Thinking...\"); \"Result\" }\n",
    "h2{ println(\"Thinking...\"); \"Result\" }"
   ]
  },
  {
   "cell_type": "markdown",
   "metadata": {
    "nbpresent": {
     "id": "fc7e1c82-f5ad-4de0-80c1-eaa23c7bdbde"
    }
   },
   "source": [
    "* Traits for Mixin Inheritance"
   ]
  },
  {
   "cell_type": "code",
   "execution_count": 5,
   "metadata": {
    "collapsed": false,
    "nbpresent": {
     "id": "1aa73bb7-5595-4322-a381-0e32ae373a12"
    }
   },
   "outputs": [
    {
     "data": {
      "text/plain": [
       "defined \u001b[32mtrait \u001b[36mOrdered\u001b[0m\n",
       "defined \u001b[32mclass \u001b[36mPerson\u001b[0m\n",
       "\u001b[36mres4_2\u001b[0m: \u001b[32mBoolean\u001b[0m = \u001b[32mtrue\u001b[0m"
      ]
     },
     "metadata": {},
     "output_type": "display_data"
    }
   ],
   "source": [
    "trait Ordered[T] {\n",
    "  def compare(that: T): Int\n",
    "  \n",
    "  def <(that: T): Boolean = (this compare that) < 0\n",
    "  def >(that: T): Boolean = (this compare that) > 0\n",
    "  def <=(that: T): Boolean = (this compare that) <= 0\n",
    "  def >=(that: T): Boolean = (this compare that) >= 0\n",
    "}\n",
    "\n",
    "case class Person(first: String, last: String) extends Ordered[Person] {\n",
    "  def compare(that: Person): Int = {\n",
    "    val c = last compare that.last\n",
    "    if (c != 0) c else first compare that.first\n",
    "  }\n",
    "}\n",
    "\n",
    "Person(\"Brian\", \"Howard\") < Person(\"Eleanor\", \"Howard\")"
   ]
  },
  {
   "cell_type": "code",
   "execution_count": 6,
   "metadata": {
    "collapsed": false,
    "nbpresent": {
     "id": "d960bc2e-dea2-4538-b03b-356fd09c36e4"
    }
   },
   "outputs": [
    {
     "data": {
      "text/plain": [
       "defined \u001b[32mtrait \u001b[36mRenderable\u001b[0m\n",
       "defined \u001b[32mclass \u001b[36mPerson\u001b[0m\n",
       "\u001b[36mres5_2\u001b[0m: \u001b[32mString\u001b[0m = \u001b[32m\"____Brian Howard____\"\u001b[0m"
      ]
     },
     "metadata": {},
     "output_type": "display_data"
    }
   ],
   "source": [
    "trait Renderable {\n",
    "  def render(width: Int): String = {\n",
    "    val s = this.toString\n",
    "    if (s.length <= width) {\n",
    "      val pad = width - s.length\n",
    "      \"_\"*(pad/2) + s + \"_\"*(pad - pad/2)\n",
    "    } else {\n",
    "      s.substring(0, width)\n",
    "    }\n",
    "  }\n",
    "}\n",
    "\n",
    "case class Person(first: String, last: String) extends Ordered[Person] with Renderable {\n",
    "  def compare(that: Person): Int = {\n",
    "    val c = last compare that.last\n",
    "    if (c != 0) c else first compare that.first\n",
    "  }\n",
    "  \n",
    "  override def toString: String = s\"$first $last\"\n",
    "}\n",
    "\n",
    "Person(\"Brian\", \"Howard\").render(20)"
   ]
  },
  {
   "cell_type": "markdown",
   "metadata": {
    "nbpresent": {
     "id": "fa163541-b3fd-436c-a17f-0ae103cd324a"
    }
   },
   "source": [
    "* Type Parameters (with Declaration-Site Variance)"
   ]
  },
  {
   "cell_type": "code",
   "execution_count": 13,
   "metadata": {
    "collapsed": false,
    "nbpresent": {
     "id": "e1943d97-0c5f-4916-8b6f-148e20be65ba"
    }
   },
   "outputs": [
    {
     "data": {
      "text/plain": [
       "defined \u001b[32mtrait \u001b[36mStack\u001b[0m\n",
       "defined \u001b[32mobject \u001b[36mStack\u001b[0m\n",
       "\u001b[36ms\u001b[0m: \u001b[32m$user\u001b[0m.\u001b[32mStack\u001b[0m[\u001b[32mInt\u001b[0m] = cmd12$$user$Stack$StackNode@171a76da\n",
       "\u001b[36mt\u001b[0m: \u001b[32m$user\u001b[0m.\u001b[32mStack\u001b[0m[\u001b[32mAny\u001b[0m] = cmd12$$user$Stack$StackNode@4de4a148\n",
       "\u001b[36mx\u001b[0m: \u001b[32mOption\u001b[0m[\u001b[32mInt\u001b[0m] = \u001b[33mSome\u001b[0m(\u001b[32m3\u001b[0m)\n",
       "\u001b[36my\u001b[0m: \u001b[32mOption\u001b[0m[\u001b[32mAny\u001b[0m] = \u001b[33mSome\u001b[0m(3)\n",
       "defined \u001b[32mfunction \u001b[36msum\u001b[0m\n",
       "\u001b[36mres12_7\u001b[0m: \u001b[32mInt\u001b[0m = \u001b[32m6\u001b[0m"
      ]
     },
     "metadata": {},
     "output_type": "display_data"
    }
   ],
   "source": [
    "trait Stack[+T] {\n",
    "  def top: Option[T]\n",
    "  def pop: Stack[T]\n",
    "  def push[U >: T](x: U): Stack[U] = new Stack.StackNode[U](x, this)\n",
    "}\n",
    "\n",
    "object Stack {\n",
    "  def apply[T](args: T*): Stack[T] = args.foldLeft[Stack[T]](EmptyStack)(_ push _)\n",
    "  \n",
    "  private object EmptyStack extends Stack[Nothing] {\n",
    "    def top = None\n",
    "    def pop = this\n",
    "  }\n",
    "  \n",
    "  private class StackNode[T](val first: T, val rest: Stack[T]) extends Stack[T] {\n",
    "    def top = Some(first)\n",
    "    def pop = rest \n",
    "  }\n",
    "}\n",
    "\n",
    "val s = Stack(1, 2, 3)\n",
    "val t = s push \"Hello\"\n",
    "\n",
    "val x = s.top\n",
    "val y = t.pop.top\n",
    "\n",
    "def sum[T](s: Stack[Int]): Int = s.top match {\n",
    "  case Some(n) => n + sum(s.pop)\n",
    "  case None => 0\n",
    "}\n",
    "\n",
    "sum(s)\n",
    "// sum(t)"
   ]
  },
  {
   "cell_type": "markdown",
   "metadata": {
    "nbpresent": {
     "id": "3509679b-88ac-46a1-a340-3779900c0cc0"
    }
   },
   "source": [
    "* Extension Methods with Implicits"
   ]
  },
  {
   "cell_type": "code",
   "execution_count": 11,
   "metadata": {
    "collapsed": false,
    "nbpresent": {
     "id": "014e0877-44c7-4260-84e4-7dc24be343e7"
    }
   },
   "outputs": [
    {
     "data": {
      "text/plain": [
       "defined \u001b[32mclass \u001b[36mFactInt\u001b[0m\n",
       "\u001b[36mres10_1\u001b[0m: \u001b[32mBigInt\u001b[0m = 120\n",
       "\u001b[36mres10_2\u001b[0m: \u001b[32mBigInt\u001b[0m = 3628800\n",
       "\u001b[36mres10_3\u001b[0m: \u001b[32mBigInt\u001b[0m = 93326215443944152681699238856266700490715968264381621468592963895217599993229915608941463976156518286253697920827223758251185210916864000000000000000000000000"
      ]
     },
     "metadata": {},
     "output_type": "display_data"
    }
   ],
   "source": [
    "implicit class FactInt(val self: Int) /* extends AnyVal */ {\n",
    "  def ! : BigInt = if (self <= 1) 1 else self * (self - 1).!\n",
    "}\n",
    "\n",
    "5!\n",
    "\n",
    "10!\n",
    "\n",
    "100!"
   ]
  }
 ],
 "metadata": {
  "anaconda-cloud": {},
  "kernelspec": {
   "display_name": "Scala 2.11",
   "language": "scala211",
   "name": "scala211"
  },
  "language_info": {
   "codemirror_mode": "text/x-scala",
   "file_extension": ".scala",
   "mimetype": "text/x-scala",
   "name": "scala211",
   "pygments_lexer": "scala",
   "version": "2.11.7"
  },
  "nbpresent": {
   "slides": {
    "034ccc0b-47df-44bd-8f47-060bae3bd5e3": {
     "id": "034ccc0b-47df-44bd-8f47-060bae3bd5e3",
     "prev": "606fe091-f0c4-445b-864e-974736d919f1",
     "regions": {
      "457645b3-6b27-4498-b30b-5d8f236a2599": {
       "attrs": {
        "height": 0.9332099907493062,
        "width": 0.4997571692876965,
        "x": 0.5001503237742831,
        "y": 0.06762257169287698
       },
       "content": {
        "cell": "d96f01f9-8a23-40fd-992f-12c678bf9fe7",
        "part": "outputs"
       },
       "id": "457645b3-6b27-4498-b30b-5d8f236a2599"
      },
      "4b2ad0cd-5131-4236-af0b-25588d6f66d9": {
       "attrs": {
        "height": 0.06734505087881597,
        "width": 1.000335337650324,
        "x": -0.00042784458834417056,
        "y": -0.0008325624421831427
       },
       "content": {
        "cell": "9cbe154c-ae8a-4a17-bfcf-62b52b0ac825",
        "part": "source"
       },
       "id": "4b2ad0cd-5131-4236-af0b-25588d6f66d9"
      },
      "fccec7f5-6058-4feb-b64f-8d9cd93f5666": {
       "attrs": {
        "height": 0.9352451433857539,
        "width": 0.49994218316373723,
        "x": 0,
        "y": 0.06475485661424607
       },
       "content": {
        "cell": "d96f01f9-8a23-40fd-992f-12c678bf9fe7",
        "part": "source"
       },
       "id": "fccec7f5-6058-4feb-b64f-8d9cd93f5666"
      }
     }
    },
    "1f55e6ff-f6e9-488f-83d7-a23da89a4f17": {
     "id": "1f55e6ff-f6e9-488f-83d7-a23da89a4f17",
     "prev": "8c807f3d-254e-43a9-8179-412b51861a7f",
     "regions": {
      "3f598e07-4ba3-4e0a-9eb7-067e5a75feeb": {
       "attrs": {
        "height": 0.06734505087881597,
        "width": 1.000335337650324,
        "x": -0.00042784458834417056,
        "y": -0.0008325624421831427
       },
       "content": {
        "cell": "4084a363-dd9e-42b7-ab2a-d8e7e89c9635",
        "part": "source"
       },
       "id": "3f598e07-4ba3-4e0a-9eb7-067e5a75feeb"
      },
      "709538f3-4684-4c1c-a3d6-3598d912d0a5": {
       "attrs": {
        "height": 0.9352451433857539,
        "width": 1,
        "x": 0,
        "y": 0.06475485661424607
       },
       "content": {
        "cell": "cc11db56-6be7-4ec0-b87c-131736db7e0f",
        "part": "whole"
       },
       "id": "709538f3-4684-4c1c-a3d6-3598d912d0a5"
      }
     }
    },
    "314f540f-f90a-4975-9196-8a4dbd61e35d": {
     "id": "314f540f-f90a-4975-9196-8a4dbd61e35d",
     "prev": "aad0fc46-640b-4f39-9d87-cfea7a1f2308",
     "regions": {
      "ab4fc0c0-31f1-43b2-bcb3-9f9bd45c0f24": {
       "attrs": {
        "height": 0.9352451433857539,
        "width": 1,
        "x": 0,
        "y": 0.06475485661424607
       },
       "content": {
        "cell": "e1943d97-0c5f-4916-8b6f-148e20be65ba",
        "part": "whole"
       },
       "id": "ab4fc0c0-31f1-43b2-bcb3-9f9bd45c0f24"
      },
      "eafc5cd9-7a99-456b-817f-25b757240c22": {
       "attrs": {
        "height": 0.06734505087881597,
        "width": 1.000335337650324,
        "x": -0.00042784458834417056,
        "y": -0.0008325624421831427
       },
       "content": {
        "cell": "fa163541-b3fd-436c-a17f-0ae103cd324a",
        "part": "source"
       },
       "id": "eafc5cd9-7a99-456b-817f-25b757240c22"
      }
     }
    },
    "41822fbd-2509-4883-8a0e-9414c9a60c8b": {
     "id": "41822fbd-2509-4883-8a0e-9414c9a60c8b",
     "prev": "034ccc0b-47df-44bd-8f47-060bae3bd5e3",
     "regions": {
      "573dd2ec-7bd5-4fbb-8f29-60e343804c81": {
       "attrs": {
        "height": 0.06734505087881597,
        "width": 1.000335337650324,
        "x": -0.00042784458834417056,
        "y": -0.0008325624421831427
       },
       "content": {
        "cell": "fc7e1c82-f5ad-4de0-80c1-eaa23c7bdbde",
        "part": "source"
       },
       "id": "573dd2ec-7bd5-4fbb-8f29-60e343804c81"
      },
      "5db49a2d-6248-4998-9042-8262c51506c5": {
       "attrs": {
        "height": 0.9352451433857539,
        "width": 1,
        "x": 0,
        "y": 0.06475485661424607
       },
       "content": {
        "cell": "1aa73bb7-5595-4322-a381-0e32ae373a12",
        "part": "whole"
       },
       "id": "5db49a2d-6248-4998-9042-8262c51506c5"
      }
     }
    },
    "606fe091-f0c4-445b-864e-974736d919f1": {
     "id": "606fe091-f0c4-445b-864e-974736d919f1",
     "prev": "1f55e6ff-f6e9-488f-83d7-a23da89a4f17",
     "regions": {
      "9e125036-b2bc-4c31-b571-ce25a1e2b080": {
       "attrs": {
        "height": 0.9352451433857539,
        "width": 1,
        "x": 0,
        "y": 0.06475485661424607
       },
       "content": {
        "cell": "9145bbe3-322d-47ac-9349-3121d9cdf4a7",
        "part": "whole"
       },
       "id": "9e125036-b2bc-4c31-b571-ce25a1e2b080"
      },
      "dd2d615e-6153-4b37-9c8d-8d1fc25d840e": {
       "attrs": {
        "height": 0.06734505087881597,
        "width": 1.000335337650324,
        "x": -0.00042784458834417056,
        "y": -0.0008325624421831427
       },
       "content": {
        "cell": "988b1e3b-f971-4703-b58a-d61e21d9eaba",
        "part": "source"
       },
       "id": "dd2d615e-6153-4b37-9c8d-8d1fc25d840e"
      }
     }
    },
    "8c807f3d-254e-43a9-8179-412b51861a7f": {
     "id": "8c807f3d-254e-43a9-8179-412b51861a7f",
     "prev": null,
     "regions": {
      "06fe8cf1-231d-4f1f-a5e1-95a35c565a94": {
       "attrs": {
        "height": 0.06827012025901949,
        "width": 0.9998149861239594,
        "x": 0.0006128743442531425,
        "y": 0.06669750231267348
       },
       "content": {
        "cell": "03116d39-cdd0-4090-b3b0-b96903640a30",
        "part": "source"
       },
       "id": "06fe8cf1-231d-4f1f-a5e1-95a35c565a94"
      },
      "45495fcf-afef-428d-aa29-4ee15d6a7676": {
       "attrs": {
        "height": 0.8647548566142461,
        "width": 0.4971554116558742,
        "x": 0.5022317298797411,
        "y": 0.1351526364477336
       },
       "content": {
        "cell": "ecddb84f-da7c-4b41-a3f2-f53596f1bc56",
        "part": "whole"
       },
       "id": "45495fcf-afef-428d-aa29-4ee15d6a7676"
      },
      "b62b01ec-26b3-478b-83c5-044a25e6a9b8": {
       "attrs": {
        "height": 0.8677150786308974,
        "width": 0.5004625346901016,
        "x": 0.0010407030527289547,
        "y": 0.1332099907493062
       },
       "content": {
        "cell": "c526ad2a-e07e-418f-be4f-c7b427675d38",
        "part": "source"
       },
       "id": "b62b01ec-26b3-478b-83c5-044a25e6a9b8"
      },
      "b9dd82c8-4412-42e1-a810-677ee17fc02d": {
       "attrs": {
        "height": 0.06641998149861246,
        "width": 0.9992946345975949,
        "x": -0.00042782870847581225,
        "y": 9.250693802037256e-05
       },
       "content": {
        "cell": "ddae96c3-ab09-487e-be3d-f2ceb0aae346",
        "part": "source"
       },
       "id": "b9dd82c8-4412-42e1-a810-677ee17fc02d"
      }
     }
    },
    "9de85c04-0c8d-4006-8f33-54c1083dea48": {
     "id": "9de85c04-0c8d-4006-8f33-54c1083dea48",
     "prev": "cb76121c-a846-4d1c-9cea-5c060cc3c177",
     "regions": {
      "b7c42b60-483e-4c90-8a97-1fe8b5e35698": {
       "attrs": {
        "height": 0.9352451433857539,
        "width": 1,
        "x": 0,
        "y": 0.06475485661424607
       },
       "content": {
        "cell": "e1943d97-0c5f-4916-8b6f-148e20be65ba",
        "part": "whole"
       },
       "id": "b7c42b60-483e-4c90-8a97-1fe8b5e35698"
      },
      "e75b6be5-a904-4b06-9284-9c84a122392c": {
       "attrs": {
        "height": 0.06734505087881597,
        "width": 1.000335337650324,
        "x": -0.00042784458834417056,
        "y": -0.0008325624421831427
       },
       "content": {
        "cell": "fa163541-b3fd-436c-a17f-0ae103cd324a",
        "part": "source"
       },
       "id": "e75b6be5-a904-4b06-9284-9c84a122392c"
      }
     }
    },
    "aad0fc46-640b-4f39-9d87-cfea7a1f2308": {
     "id": "aad0fc46-640b-4f39-9d87-cfea7a1f2308",
     "prev": "41822fbd-2509-4883-8a0e-9414c9a60c8b",
     "regions": {
      "1296e616-7148-4f71-b9bd-d9ea39210ceb": {
       "attrs": {
        "height": 0.06734505087881597,
        "width": 1.000335337650324,
        "x": -0.00042784458834417056,
        "y": -0.0008325624421831427
       },
       "content": {
        "cell": "fc7e1c82-f5ad-4de0-80c1-eaa23c7bdbde",
        "part": "source"
       },
       "id": "1296e616-7148-4f71-b9bd-d9ea39210ceb"
      },
      "780206bc-99b5-49d9-a073-231dd5362c03": {
       "attrs": {
        "height": 0.9352451433857539,
        "width": 1,
        "x": 0,
        "y": 0.06475485661424607
       },
       "content": {
        "cell": "d960bc2e-dea2-4538-b03b-356fd09c36e4",
        "part": "whole"
       },
       "id": "780206bc-99b5-49d9-a073-231dd5362c03"
      }
     }
    },
    "cb76121c-a846-4d1c-9cea-5c060cc3c177": {
     "id": "cb76121c-a846-4d1c-9cea-5c060cc3c177",
     "prev": "314f540f-f90a-4975-9196-8a4dbd61e35d",
     "regions": {
      "86e4b8dd-7dbe-469a-885e-468c9596ca49": {
       "attrs": {
        "height": 0.06734505087881597,
        "width": 1.000335337650324,
        "x": -0.00042784458834417056,
        "y": -0.0008325624421831427
       },
       "content": {
        "cell": "3509679b-88ac-46a1-a340-3779900c0cc0",
        "part": "source"
       },
       "id": "86e4b8dd-7dbe-469a-885e-468c9596ca49"
      },
      "e8a3856b-94c6-4889-9ba3-5c7f595ee5dc": {
       "attrs": {
        "height": 0.9352451433857539,
        "width": 1,
        "x": 0,
        "y": 0.06475485661424607
       },
       "content": {
        "cell": "014e0877-44c7-4260-84e4-7dc24be343e7",
        "part": "whole"
       },
       "id": "e8a3856b-94c6-4889-9ba3-5c7f595ee5dc"
      }
     }
    }
   },
   "themes": {}
  }
 },
 "nbformat": 4,
 "nbformat_minor": 0
}
